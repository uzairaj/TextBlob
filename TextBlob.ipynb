{
 "cells": [
  {
   "cell_type": "code",
   "execution_count": 32,
   "metadata": {
    "collapsed": true
   },
   "outputs": [],
   "source": [
    "from textblob import TextBlob"
   ]
  },
  {
   "cell_type": "code",
   "execution_count": 33,
   "metadata": {
    "collapsed": true
   },
   "outputs": [],
   "source": [
    "test_sent = TextBlob(\"Data science projects have several steps to follow and for continuity, these steps should flow together. Without a systematic work flow, it is very easy to get lost in one of these steps. In industry, when people think that they finished a project, they often struggle to bring the project to full operational support as they have failed to consider these life cycle steps. This is a common, but serious one resulting from people who do not know or appreciate the meaning of the term, production ready.\")"
   ]
  },
  {
   "cell_type": "code",
   "execution_count": 34,
   "metadata": {},
   "outputs": [
    {
     "data": {
      "text/plain": [
       "[Sentence(\"Data science projects have several steps to follow and for continuity, these steps should flow together.\"),\n",
       " Sentence(\"Without a systematic work flow, it is very easy to get lost in one of these steps.\"),\n",
       " Sentence(\"In industry, when people think that they finished a project, they often struggle to bring the project to full operational support as they have failed to consider these life cycle steps.\"),\n",
       " Sentence(\"This is a common, but serious one resulting from people who do not know or appreciate the meaning of the term, production ready.\")]"
      ]
     },
     "execution_count": 34,
     "metadata": {},
     "output_type": "execute_result"
    }
   ],
   "source": [
    "test_sent.sentences"
   ]
  },
  {
   "cell_type": "code",
   "execution_count": 35,
   "metadata": {},
   "outputs": [
    {
     "name": "stdout",
     "output_type": "stream",
     "text": [
      "<class 'textblob.blob.TextBlob'>\n"
     ]
    }
   ],
   "source": [
    "print(type(test_sent)) #print type of the sentence"
   ]
  },
  {
   "cell_type": "code",
   "execution_count": 43,
   "metadata": {},
   "outputs": [
    {
     "name": "stdout",
     "output_type": "stream",
     "text": [
      "Data science projects have several steps to follow and for continuity, these steps should flow together.\n",
      "Data\n",
      "science\n",
      "projects\n",
      "have\n",
      "several\n",
      "steps\n",
      "to\n",
      "follow\n",
      "and\n",
      "for\n",
      "continuity\n",
      "these\n",
      "steps\n",
      "should\n",
      "flow\n",
      "together\n",
      "\n",
      "Without a systematic work flow, it is very easy to get lost in one of these steps.\n",
      "Without\n",
      "a\n",
      "systematic\n",
      "work\n",
      "flow\n",
      "it\n",
      "is\n",
      "very\n",
      "easy\n",
      "to\n",
      "get\n",
      "lost\n",
      "in\n",
      "one\n",
      "of\n",
      "these\n",
      "steps\n",
      "\n",
      "In industry, when people think that they finished a project, they often struggle to bring the project to full operational support as they have failed to consider these life cycle steps.\n",
      "In\n",
      "industry\n",
      "when\n",
      "people\n",
      "think\n",
      "that\n",
      "they\n",
      "finished\n",
      "a\n",
      "project\n",
      "they\n",
      "often\n",
      "struggle\n",
      "to\n",
      "bring\n",
      "the\n",
      "project\n",
      "to\n",
      "full\n",
      "operational\n",
      "support\n",
      "as\n",
      "they\n",
      "have\n",
      "failed\n",
      "to\n",
      "consider\n",
      "these\n",
      "life\n",
      "cycle\n",
      "steps\n",
      "\n",
      "This is a common, but serious one resulting from people who do not know or appreciate the meaning of the term, production ready.\n",
      "This\n",
      "is\n",
      "a\n",
      "common\n",
      "but\n",
      "serious\n",
      "one\n",
      "resulting\n",
      "from\n",
      "people\n",
      "who\n",
      "do\n",
      "not\n",
      "know\n",
      "or\n",
      "appreciate\n",
      "the\n",
      "meaning\n",
      "of\n",
      "the\n",
      "term\n",
      "production\n",
      "ready\n",
      "\n"
     ]
    }
   ],
   "source": [
    "for sentence in test_sent.sentences:  ## printing words of first sentence\n",
    "    print(sentence)\n",
    "    for word in sentence.words:\n",
    "        print (word)    \n",
    "    print()"
   ]
  },
  {
   "cell_type": "code",
   "execution_count": 44,
   "metadata": {},
   "outputs": [
    {
     "name": "stdout",
     "output_type": "stream",
     "text": [
      "Data NNP\n",
      "science NN\n",
      "projects NNS\n",
      "have VBP\n",
      "several JJ\n",
      "steps NNS\n",
      "to TO\n",
      "follow VB\n",
      "and CC\n",
      "for IN\n",
      "continuity NN\n",
      "these DT\n",
      "steps NNS\n",
      "should MD\n",
      "flow VB\n",
      "together RB\n",
      "Without IN\n",
      "a DT\n",
      "systematic JJ\n",
      "work NN\n",
      "flow NN\n",
      "it PRP\n",
      "is VBZ\n",
      "very RB\n",
      "easy JJ\n",
      "to TO\n",
      "get VB\n",
      "lost VBN\n",
      "in IN\n",
      "one CD\n",
      "of IN\n",
      "these DT\n",
      "steps NNS\n",
      "In IN\n",
      "industry NN\n",
      "when WRB\n",
      "people NNS\n",
      "think VBP\n",
      "that IN\n",
      "they PRP\n",
      "finished VBD\n",
      "a DT\n",
      "project NN\n",
      "they PRP\n",
      "often RB\n",
      "struggle VBP\n",
      "to TO\n",
      "bring VB\n",
      "the DT\n",
      "project NN\n",
      "to TO\n",
      "full JJ\n",
      "operational JJ\n",
      "support NN\n",
      "as IN\n",
      "they PRP\n",
      "have VBP\n",
      "failed VBN\n",
      "to TO\n",
      "consider VB\n",
      "these DT\n",
      "life NN\n",
      "cycle NN\n",
      "steps NNS\n",
      "This DT\n",
      "is VBZ\n",
      "a DT\n",
      "common JJ\n",
      "but CC\n",
      "serious JJ\n",
      "one CD\n",
      "resulting VBG\n",
      "from IN\n",
      "people NNS\n",
      "who WP\n",
      "do VBP\n",
      "not RB\n",
      "know VB\n",
      "or CC\n",
      "appreciate VB\n",
      "the DT\n",
      "meaning NN\n",
      "of IN\n",
      "the DT\n",
      "term NN\n",
      "production NN\n",
      "ready NN\n"
     ]
    }
   ],
   "source": [
    "for words, tag in test_sent.tags:\n",
    "    print (words, tag)"
   ]
  },
  {
   "cell_type": "code",
   "execution_count": 45,
   "metadata": {},
   "outputs": [
    {
     "data": {
      "text/plain": [
       "TextBlob(\"I like the movie but it was a bit lengthy.\")"
      ]
     },
     "execution_count": 45,
     "metadata": {},
     "output_type": "execute_result"
    }
   ],
   "source": [
    "sample = TextBlob('I lke the movie but it was a bit lngthy.')\n",
    "sample.correct()"
   ]
  },
  {
   "cell_type": "code",
   "execution_count": 7,
   "metadata": {},
   "outputs": [
    {
     "data": {
      "text/plain": [
       "[('lengthy', 1.0)]"
      ]
     },
     "execution_count": 7,
     "metadata": {},
     "output_type": "execute_result"
    }
   ],
   "source": [
    "sample.words[9].spellcheck()"
   ]
  },
  {
   "cell_type": "code",
   "execution_count": 46,
   "metadata": {},
   "outputs": [
    {
     "name": "stdout",
     "output_type": "stream",
     "text": [
      "['science', 'continuity', 'work', 'flow', 'industry', 'project', 'support', 'life', 'cycle', 'meaning', 'term', 'production', 'ready']\n"
     ]
    }
   ],
   "source": [
    "nouns = list()\n",
    "for word, tag in test_sent.tags:\n",
    "    if tag == 'NN':  \n",
    "        #print(word)\n",
    "        if (word not in nouns):\n",
    "            nouns.append(word)\n",
    "print(nouns)"
   ]
  },
  {
   "cell_type": "code",
   "execution_count": 47,
   "metadata": {
    "collapsed": true
   },
   "outputs": [],
   "source": [
    "import random"
   ]
  },
  {
   "cell_type": "code",
   "execution_count": 48,
   "metadata": {},
   "outputs": [
    {
     "name": "stdout",
     "output_type": "stream",
     "text": [
      "This text is about...\n",
      "industry\n",
      "continuity\n"
     ]
    }
   ],
   "source": [
    "print (\"This text is about...\")\n",
    "for item in random.sample(nouns, 2):\n",
    "    print (item)\n"
   ]
  },
  {
   "cell_type": "code",
   "execution_count": 55,
   "metadata": {
    "collapsed": true
   },
   "outputs": [],
   "source": [
    "article = '''\n",
    "The Trump administration has selected five companies, including Moderna, AstraZeneca Plc and Pfizer, as the most likely candidates to produce a vaccine for the novel coronavirus, the New York Times reported on Wednesday, citing senior officials.\n",
    "\n",
    "The other two companies are Johnson & Johnson and Merck & Co, according to the paper.\n",
    "\n",
    "The selected companies will get access to additional government funds, help in running clinical trials, and financial and logistical support, the paper reported.\n",
    "\n",
    "There is no approved vaccine for COVID-19 caused by the new coronavirus.\n",
    "\n",
    "The report did not mention potential vaccines from French drugmaker Sanofi, Novavax Inc and Inovio Pharmaceuticals Inc – among the more than 100 in development globally.\n",
    "\n",
    "It was not immediately clear if Wednesday’s move had any impact on those programs.\n",
    "\n",
    "The announcement of the decision will be made at the White House in the next few weeks, according to the report.\n",
    "\n",
    "The White House did not immediately respond to a request for comment.\n",
    "\n",
    "“We cannot comment on information that is market-moving,” a U.S. Department of Health and Human Services official said.\n",
    "\n",
    "The companies on the list are the farthest along in developing a vaccine and have significant manufacturing capacity.\n",
    "\n",
    "The United States is planning massive clinical trials involving 100,000 to 150,000 volunteers in total, with the goal of delivering an effective vaccine by the end of this year.\n",
    "\n",
    "To make that deadline, the government aims to start mid-stage testing in July.\n",
    "\n",
    "The first two vaccines to start that trial would likely be from Moderna and the AstraZeneca/Oxford University combination, the National Institutes of Health Director Dr. Francis Collins told Reuters in an interview last month. He also said he expected vaccine candidates from J&J and Merck to eventually join the trial effort.\n",
    "\n",
    "None of the companies were immediately available for comment.\n",
    "'''\n",
    "news_text = TextBlob(article)"
   ]
  },
  {
   "cell_type": "code",
   "execution_count": 56,
   "metadata": {},
   "outputs": [
    {
     "name": "stdout",
     "output_type": "stream",
     "text": [
      "['administration', 'vaccine', 'coronavirus', 'paper', 'access', 'government', 'help', 'support', 'paper', 'vaccine', 'coronavirus', 'report', 'drugmaker', 'development', 'move', 'impact', 'announcement', 'decision', 'report', 'request', 'comment', 'information', 'official', 'list', 'vaccine', 'manufacturing', 'capacity', 'goal', 'vaccine', 'end', 'year', 'deadline', 'government', 'testing', 'trial', 'combination', 'interview', 'month', 'trial', 'effort', 'None', 'comment']\n"
     ]
    }
   ],
   "source": [
    "nouns = list()\n",
    "for word, tag in news_text.tags:\n",
    "    if tag == 'NN':  \n",
    "        #print(word)\n",
    "        #if (word not in nouns):\n",
    "        nouns.append(word.lemmatize())\n",
    "print(nouns)"
   ]
  },
  {
   "cell_type": "code",
   "execution_count": 58,
   "metadata": {},
   "outputs": [
    {
     "name": "stdout",
     "output_type": "stream",
     "text": [
      "This text is about...\n",
      "development\n",
      "testing\n",
      "vaccine\n",
      "comment\n",
      "official\n"
     ]
    }
   ],
   "source": [
    "print (\"This text is about...\")\n",
    "for item in random.sample(nouns, 5):\n",
    "    print (item)"
   ]
  },
  {
   "cell_type": "code",
   "execution_count": 59,
   "metadata": {
    "collapsed": true
   },
   "outputs": [],
   "source": [
    "from collections import Counter"
   ]
  },
  {
   "cell_type": "code",
   "execution_count": 60,
   "metadata": {},
   "outputs": [
    {
     "name": "stdout",
     "output_type": "stream",
     "text": [
      "Counter({'vaccine': 4, 'coronavirus': 2, 'paper': 2, 'government': 2, 'report': 2, 'comment': 2, 'trial': 2, 'administration': 1, 'access': 1, 'help': 1, 'support': 1, 'drugmaker': 1, 'development': 1, 'move': 1, 'impact': 1, 'announcement': 1, 'decision': 1, 'request': 1, 'information': 1, 'official': 1, 'list': 1, 'manufacturing': 1, 'capacity': 1, 'goal': 1, 'end': 1, 'year': 1, 'deadline': 1, 'testing': 1, 'combination': 1, 'interview': 1, 'month': 1, 'effort': 1, 'None': 1})\n"
     ]
    }
   ],
   "source": [
    "counts = Counter(nouns)\n",
    "print(counts)"
   ]
  },
  {
   "cell_type": "code",
   "execution_count": 16,
   "metadata": {},
   "outputs": [
    {
     "name": "stdout",
     "output_type": "stream",
     "text": [
      "<built-in method get of Counter object at 0x0000019477283F68>\n"
     ]
    }
   ],
   "source": [
    "print(counts.get)"
   ]
  },
  {
   "cell_type": "code",
   "execution_count": 61,
   "metadata": {},
   "outputs": [
    {
     "name": "stdout",
     "output_type": "stream",
     "text": [
      "vaccine\n",
      "coronavirus\n",
      "paper\n",
      "government\n",
      "report\n"
     ]
    }
   ],
   "source": [
    "sorted_nouns = sorted(counts, key=counts.get, reverse=True)\n",
    "top_nouns = sorted_nouns[0:5]\n",
    "for item in top_nouns:    \n",
    "    print (item)"
   ]
  },
  {
   "cell_type": "code",
   "execution_count": 62,
   "metadata": {},
   "outputs": [
    {
     "data": {
      "text/plain": [
       "[('vaccine', 4),\n",
       " ('coronavirus', 2),\n",
       " ('paper', 2),\n",
       " ('government', 2),\n",
       " ('report', 2)]"
      ]
     },
     "execution_count": 62,
     "metadata": {},
     "output_type": "execute_result"
    }
   ],
   "source": [
    "counts.most_common(5)"
   ]
  },
  {
   "cell_type": "code",
   "execution_count": 14,
   "metadata": {},
   "outputs": [
    {
     "data": {
      "text/plain": [
       "[Synset('course.n.01'),\n",
       " Synset('course.n.02'),\n",
       " Synset('course.n.03'),\n",
       " Synset('course.n.04'),\n",
       " Synset('path.n.04'),\n",
       " Synset('class.n.02'),\n",
       " Synset('course.n.07'),\n",
       " Synset('course.n.08'),\n",
       " Synset('course.n.09'),\n",
       " Synset('course.v.01'),\n",
       " Synset('run.v.06'),\n",
       " Synset('course.v.03'),\n",
       " Synset('naturally.r.01')]"
      ]
     },
     "execution_count": 14,
     "metadata": {},
     "output_type": "execute_result"
    }
   ],
   "source": [
    "from textblob import Word\n",
    "from textblob.wordnet import VERB\n",
    "word = Word(\"course\")\n",
    "word.synsets"
   ]
  },
  {
   "cell_type": "code",
   "execution_count": 16,
   "metadata": {},
   "outputs": [
    {
     "data": {
      "text/plain": [
       "[Synset('play.v.01'),\n",
       " Synset('play.v.02'),\n",
       " Synset('play.v.03'),\n",
       " Synset('act.v.03'),\n",
       " Synset('play.v.05'),\n",
       " Synset('play.v.06'),\n",
       " Synset('play.v.07'),\n",
       " Synset('act.v.05'),\n",
       " Synset('play.v.09'),\n",
       " Synset('play.v.10'),\n",
       " Synset('play.v.11'),\n",
       " Synset('play.v.12'),\n",
       " Synset('play.v.13'),\n",
       " Synset('play.v.14'),\n",
       " Synset('play.v.15'),\n",
       " Synset('play.v.16'),\n",
       " Synset('play.v.17'),\n",
       " Synset('play.v.18'),\n",
       " Synset('toy.v.02'),\n",
       " Synset('play.v.20'),\n",
       " Synset('dally.v.04'),\n",
       " Synset('play.v.22'),\n",
       " Synset('dally.v.01'),\n",
       " Synset('play.v.24'),\n",
       " Synset('act.v.10'),\n",
       " Synset('play.v.26'),\n",
       " Synset('bring.v.03'),\n",
       " Synset('play.v.28'),\n",
       " Synset('play.v.29'),\n",
       " Synset('bet.v.02'),\n",
       " Synset('play.v.31'),\n",
       " Synset('play.v.32'),\n",
       " Synset('play.v.33'),\n",
       " Synset('meet.v.10'),\n",
       " Synset('play.v.35')]"
      ]
     },
     "execution_count": 16,
     "metadata": {},
     "output_type": "execute_result"
    }
   ],
   "source": [
    "Word(\"play\").get_synsets(pos=VERB)"
   ]
  },
  {
   "cell_type": "code",
   "execution_count": 64,
   "metadata": {},
   "outputs": [
    {
     "data": {
      "text/plain": [
       "TextBlob(\"Data science projects have several steps to follow and for continuity, these steps should flow together. Without a systematic work flow, it is very easy to get lost in one of these steps. In industry, when people think that they finished a project, they often struggle to bring the project to full operational support as they have failed to consider these life cycle steps. This is a common, but serious one resulting from people who do not know or appreciate the meaning of the term, production ready.\")"
      ]
     },
     "execution_count": 64,
     "metadata": {},
     "output_type": "execute_result"
    }
   ],
   "source": [
    "test_sent"
   ]
  },
  {
   "cell_type": "code",
   "execution_count": 63,
   "metadata": {},
   "outputs": [
    {
     "data": {
      "text/plain": [
       "TextBlob(\"ڈیٹا سائنس پروجیکٹس کے پیروی کرنے اور تسلسل کے ل several کئی اقدامات ہیں ، ان اقدامات کو ایک ساتھ چلنا چاہئے۔ منظم کام کے بہاؤ کے بغیر ، ان اقدامات میں سے کسی میں کھو جانا بہت آسان ہے۔ صنعت میں ، جب لوگ یہ سمجھتے ہیں کہ انہوں نے ایک پروجیکٹ ختم کیا ہے تو ، وہ اکثر اس منصوبے کو مکمل آپریشنل سپورٹ پر لانے کے لئے جدوجہد کرتے ہیں کیونکہ وہ زندگی کے ان اقدامات پر غور کرنے میں ناکام رہے ہیں۔ یہ ایک عام ، لیکن سنجیدہ ہے جس کے نتیجے میں ایسے افراد پیدا ہوتے ہیں جو اصطلاح کے معنی کو نہیں جانتے یا اس کی تعریف نہیں کرتے ، تیار ہے۔\")"
      ]
     },
     "execution_count": 63,
     "metadata": {},
     "output_type": "execute_result"
    }
   ],
   "source": [
    "test_sent.translate(to='ur')"
   ]
  },
  {
   "cell_type": "code",
   "execution_count": 66,
   "metadata": {},
   "outputs": [
    {
     "data": {
      "text/plain": [
       "TextBlob(\"Data science projects have several steps to follow and for continuity, these steps should flow together. Without a systematic work flow, it is very easy to get lost in one of these steps. In industry, when people think that they have finished a project, they often struggle to bring the project to full operational support as they have failed to consider these life cycle steps. This is a common, but serious one resulting from people who do not know or appreciate the meaning of the term, production ready.\")"
      ]
     },
     "execution_count": 66,
     "metadata": {},
     "output_type": "execute_result"
    }
   ],
   "source": [
    "urdu_blob = TextBlob(u\"یہ کورس مشکل نہیں ہے اور ہمارے کیریئر سے متعلق ہے لیکن انسٹرکٹر ہمیں کورس کو سمجھنے اور سمجھنے کے لئے یہ بہت مشکل بنا دیتا ہے. اساتذہ کو تبدیل کیا جانا چاہئے، کورس رہنا چاہئے.\")\n",
    "test_sent.translate(from_lang=\"ur\", to='en')"
   ]
  },
  {
   "cell_type": "code",
   "execution_count": 21,
   "metadata": {},
   "outputs": [
    {
     "data": {
      "text/plain": [
       "'ur'"
      ]
     },
     "execution_count": 21,
     "metadata": {},
     "output_type": "execute_result"
    }
   ],
   "source": [
    "urdu_blob.detect_language()"
   ]
  },
  {
   "cell_type": "code",
   "execution_count": 68,
   "metadata": {},
   "outputs": [
    {
     "name": "stdout",
     "output_type": "stream",
     "text": [
      "[('Movie', 'NNP'), ('plot', 'NN'), ('was', 'VBD'), ('not', 'RB'), ('bad', 'JJ'), ('but', 'CC'), ('actors', 'NNS'), ('performance', 'NN'), ('was', 'VBD'), ('worst', 'RB'), ('But', 'CC'), ('I', 'PRP'), ('love', 'VBP'), ('the', 'DT'), ('song', 'NN')]\n",
      "['movie', 'actors performance']\n",
      "\n",
      "Movie plot was not bad but actors performance was worst.\n",
      "-0.32500000000000007\n",
      "But I love the song\n",
      "0.5\n"
     ]
    }
   ],
   "source": [
    "text = '''\n",
    "Movie plot was not bad but actors performance was worst.\n",
    "But I love the song\n",
    "'''\n",
    "\n",
    "blob = TextBlob(text)\n",
    "print(blob.tags)           #  [('threat', 'NN'), ('of', 'IN'), ...]\n",
    "\n",
    "print(blob.noun_phrases)   # WordList(['titular threat', 'blob',\n",
    "                           #            'ultimate movie monster',\n",
    "                           #            'amoeba-like mass', ...])\n",
    "\n",
    "for sentence in blob.sentences:\n",
    "    print(sentence)\n",
    "    pol= sentence.sentiment.polarity\n",
    "    print((pol))\n",
    "    "
   ]
  },
  {
   "cell_type": "code",
   "execution_count": null,
   "metadata": {
    "collapsed": true
   },
   "outputs": [],
   "source": []
  }
 ],
 "metadata": {
  "kernelspec": {
   "display_name": "Python 3",
   "language": "python",
   "name": "python3"
  },
  "language_info": {
   "codemirror_mode": {
    "name": "ipython",
    "version": 3
   },
   "file_extension": ".py",
   "mimetype": "text/x-python",
   "name": "python",
   "nbconvert_exporter": "python",
   "pygments_lexer": "ipython3",
   "version": "3.6.3"
  }
 },
 "nbformat": 4,
 "nbformat_minor": 2
}
